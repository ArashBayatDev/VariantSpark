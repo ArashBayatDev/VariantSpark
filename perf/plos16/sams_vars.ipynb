{
 "cells": [
  {
   "cell_type": "code",
   "execution_count": 2,
   "metadata": {
    "collapsed": false
   },
   "outputs": [
    {
     "name": "stdout",
     "output_type": "stream",
     "text": [
      "Populating the interactive namespace from numpy and matplotlib\n"
     ]
    }
   ],
   "source": [
    "import pandas as pd\n",
    "%pylab inline\n",
    "rcParams['figure.figsize'] = 9, 7"
   ]
  },
  {
   "cell_type": "code",
   "execution_count": 3,
   "metadata": {
    "collapsed": false
   },
   "outputs": [],
   "source": [
    "result_df =  pd.read_csv(\"results/sams_vars.csv\")"
   ]
  },
  {
   "cell_type": "code",
   "execution_count": 4,
   "metadata": {
    "collapsed": false
   },
   "outputs": [
    {
     "data": {
      "text/html": [
       "<div>\n",
       "<table border=\"1\" class=\"dataframe\">\n",
       "  <thead>\n",
       "    <tr style=\"text-align: right;\">\n",
       "      <th></th>\n",
       "      <th>nsamples</th>\n",
       "      <th>nvars</th>\n",
       "      <th>mtry</th>\n",
       "      <th>ntrees</th>\n",
       "      <th>ncores</th>\n",
       "      <th>count</th>\n",
       "      <th>oob</th>\n",
       "      <th>duration</th>\n",
       "    </tr>\n",
       "  </thead>\n",
       "  <tbody>\n",
       "    <tr>\n",
       "      <th>0</th>\n",
       "      <td>10000</td>\n",
       "      <td>10000000</td>\n",
       "      <td>0.25</td>\n",
       "      <td>100</td>\n",
       "      <td>128</td>\n",
       "      <td>0</td>\n",
       "      <td>0.1823</td>\n",
       "      <td>2067.658</td>\n",
       "    </tr>\n",
       "  </tbody>\n",
       "</table>\n",
       "</div>"
      ],
      "text/plain": [
       "   nsamples     nvars  mtry  ntrees  ncores  count     oob  duration\n",
       "0     10000  10000000  0.25     100     128      0  0.1823  2067.658"
      ]
     },
     "execution_count": 4,
     "metadata": {},
     "output_type": "execute_result"
    }
   ],
   "source": [
    "result_df[0:1]"
   ]
  },
  {
   "cell_type": "code",
   "execution_count": 5,
   "metadata": {
    "collapsed": true
   },
   "outputs": [],
   "source": [
    "result_df['trees_by_hour'] = 3600*100.0/result_df['duration']"
   ]
  },
  {
   "cell_type": "code",
   "execution_count": 6,
   "metadata": {
    "collapsed": false
   },
   "outputs": [
    {
     "data": {
      "text/html": [
       "<div>\n",
       "<table border=\"1\" class=\"dataframe\">\n",
       "  <thead>\n",
       "    <tr style=\"text-align: right;\">\n",
       "      <th></th>\n",
       "      <th></th>\n",
       "      <th>duration</th>\n",
       "      <th>trees_by_hour</th>\n",
       "      <th>oob</th>\n",
       "    </tr>\n",
       "    <tr>\n",
       "      <th>nsamples</th>\n",
       "      <th>nvars</th>\n",
       "      <th></th>\n",
       "      <th></th>\n",
       "      <th></th>\n",
       "    </tr>\n",
       "  </thead>\n",
       "  <tbody>\n",
       "    <tr>\n",
       "      <th rowspan=\"5\" valign=\"top\">1000</th>\n",
       "      <th>150000</th>\n",
       "      <td>21.5940</td>\n",
       "      <td>16679.055615</td>\n",
       "      <td>0.2450</td>\n",
       "    </tr>\n",
       "    <tr>\n",
       "      <th>500000</th>\n",
       "      <td>26.7194</td>\n",
       "      <td>13481.611231</td>\n",
       "      <td>0.2560</td>\n",
       "    </tr>\n",
       "    <tr>\n",
       "      <th>2500000</th>\n",
       "      <td>59.7702</td>\n",
       "      <td>6129.166336</td>\n",
       "      <td>0.2840</td>\n",
       "    </tr>\n",
       "    <tr>\n",
       "      <th>10000000</th>\n",
       "      <td>133.4944</td>\n",
       "      <td>2745.907871</td>\n",
       "      <td>0.3150</td>\n",
       "    </tr>\n",
       "    <tr>\n",
       "      <th>50000000</th>\n",
       "      <td>668.8212</td>\n",
       "      <td>538.344520</td>\n",
       "      <td>0.3090</td>\n",
       "    </tr>\n",
       "    <tr>\n",
       "      <th rowspan=\"5\" valign=\"top\">5000</th>\n",
       "      <th>150000</th>\n",
       "      <td>45.6680</td>\n",
       "      <td>7899.616537</td>\n",
       "      <td>0.1880</td>\n",
       "    </tr>\n",
       "    <tr>\n",
       "      <th>500000</th>\n",
       "      <td>71.8562</td>\n",
       "      <td>5075.196489</td>\n",
       "      <td>0.1882</td>\n",
       "    </tr>\n",
       "    <tr>\n",
       "      <th>2500000</th>\n",
       "      <td>186.1984</td>\n",
       "      <td>1970.837143</td>\n",
       "      <td>0.2056</td>\n",
       "    </tr>\n",
       "    <tr>\n",
       "      <th>10000000</th>\n",
       "      <td>729.3314</td>\n",
       "      <td>493.806307</td>\n",
       "      <td>0.2062</td>\n",
       "    </tr>\n",
       "    <tr>\n",
       "      <th>50000000</th>\n",
       "      <td>2887.3548</td>\n",
       "      <td>124.783144</td>\n",
       "      <td>0.2120</td>\n",
       "    </tr>\n",
       "    <tr>\n",
       "      <th rowspan=\"5\" valign=\"top\">10000</th>\n",
       "      <th>150000</th>\n",
       "      <td>70.1818</td>\n",
       "      <td>5140.164932</td>\n",
       "      <td>0.1783</td>\n",
       "    </tr>\n",
       "    <tr>\n",
       "      <th>500000</th>\n",
       "      <td>120.1606</td>\n",
       "      <td>2996.728459</td>\n",
       "      <td>0.1795</td>\n",
       "    </tr>\n",
       "    <tr>\n",
       "      <th>2500000</th>\n",
       "      <td>397.3036</td>\n",
       "      <td>922.587574</td>\n",
       "      <td>0.1818</td>\n",
       "    </tr>\n",
       "    <tr>\n",
       "      <th>10000000</th>\n",
       "      <td>2237.8492</td>\n",
       "      <td>161.318649</td>\n",
       "      <td>0.1823</td>\n",
       "    </tr>\n",
       "    <tr>\n",
       "      <th>50000000</th>\n",
       "      <td>5784.7438</td>\n",
       "      <td>62.245897</td>\n",
       "      <td>0.1924</td>\n",
       "    </tr>\n",
       "  </tbody>\n",
       "</table>\n",
       "</div>"
      ],
      "text/plain": [
       "                    duration  trees_by_hour     oob\n",
       "nsamples nvars                                     \n",
       "1000     150000      21.5940   16679.055615  0.2450\n",
       "         500000      26.7194   13481.611231  0.2560\n",
       "         2500000     59.7702    6129.166336  0.2840\n",
       "         10000000   133.4944    2745.907871  0.3150\n",
       "         50000000   668.8212     538.344520  0.3090\n",
       "5000     150000      45.6680    7899.616537  0.1880\n",
       "         500000      71.8562    5075.196489  0.1882\n",
       "         2500000    186.1984    1970.837143  0.2056\n",
       "         10000000   729.3314     493.806307  0.2062\n",
       "         50000000  2887.3548     124.783144  0.2120\n",
       "10000    150000      70.1818    5140.164932  0.1783\n",
       "         500000     120.1606    2996.728459  0.1795\n",
       "         2500000    397.3036     922.587574  0.1818\n",
       "         10000000  2237.8492     161.318649  0.1823\n",
       "         50000000  5784.7438      62.245897  0.1924"
      ]
     },
     "execution_count": 6,
     "metadata": {},
     "output_type": "execute_result"
    }
   ],
   "source": [
    "oob_and_duration_nested = result_df.groupby(['nsamples', 'nvars']).mean()[['duration', 'trees_by_hour','oob']]\n",
    "oob_and_duration_nested"
   ]
  },
  {
   "cell_type": "code",
   "execution_count": 7,
   "metadata": {
    "collapsed": false
   },
   "outputs": [
    {
     "data": {
      "text/html": [
       "<div>\n",
       "<table border=\"1\" class=\"dataframe\">\n",
       "  <thead>\n",
       "    <tr style=\"text-align: right;\">\n",
       "      <th></th>\n",
       "      <th></th>\n",
       "      <th>duration</th>\n",
       "      <th>trees_by_hour</th>\n",
       "      <th>oob</th>\n",
       "    </tr>\n",
       "    <tr>\n",
       "      <th>nsamples</th>\n",
       "      <th>nvars</th>\n",
       "      <th></th>\n",
       "      <th></th>\n",
       "      <th></th>\n",
       "    </tr>\n",
       "  </thead>\n",
       "  <tbody>\n",
       "    <tr>\n",
       "      <th rowspan=\"5\" valign=\"top\">1000</th>\n",
       "      <th>150000</th>\n",
       "      <td>0.523603</td>\n",
       "      <td>400.040789</td>\n",
       "      <td>0.0</td>\n",
       "    </tr>\n",
       "    <tr>\n",
       "      <th>500000</th>\n",
       "      <td>0.734549</td>\n",
       "      <td>375.412879</td>\n",
       "      <td>0.0</td>\n",
       "    </tr>\n",
       "    <tr>\n",
       "      <th>2500000</th>\n",
       "      <td>9.597924</td>\n",
       "      <td>827.513508</td>\n",
       "      <td>0.0</td>\n",
       "    </tr>\n",
       "    <tr>\n",
       "      <th>10000000</th>\n",
       "      <td>20.432902</td>\n",
       "      <td>401.823236</td>\n",
       "      <td>0.0</td>\n",
       "    </tr>\n",
       "    <tr>\n",
       "      <th>50000000</th>\n",
       "      <td>9.342373</td>\n",
       "      <td>7.523709</td>\n",
       "      <td>0.0</td>\n",
       "    </tr>\n",
       "    <tr>\n",
       "      <th rowspan=\"5\" valign=\"top\">5000</th>\n",
       "      <th>150000</th>\n",
       "      <td>2.352945</td>\n",
       "      <td>403.883552</td>\n",
       "      <td>0.0</td>\n",
       "    </tr>\n",
       "    <tr>\n",
       "      <th>500000</th>\n",
       "      <td>9.901455</td>\n",
       "      <td>591.490790</td>\n",
       "      <td>0.0</td>\n",
       "    </tr>\n",
       "    <tr>\n",
       "      <th>2500000</th>\n",
       "      <td>27.885173</td>\n",
       "      <td>312.328004</td>\n",
       "      <td>0.0</td>\n",
       "    </tr>\n",
       "    <tr>\n",
       "      <th>10000000</th>\n",
       "      <td>16.546672</td>\n",
       "      <td>11.216870</td>\n",
       "      <td>0.0</td>\n",
       "    </tr>\n",
       "    <tr>\n",
       "      <th>50000000</th>\n",
       "      <td>91.911200</td>\n",
       "      <td>3.988094</td>\n",
       "      <td>0.0</td>\n",
       "    </tr>\n",
       "    <tr>\n",
       "      <th rowspan=\"5\" valign=\"top\">10000</th>\n",
       "      <th>150000</th>\n",
       "      <td>3.680163</td>\n",
       "      <td>253.454160</td>\n",
       "      <td>0.0</td>\n",
       "    </tr>\n",
       "    <tr>\n",
       "      <th>500000</th>\n",
       "      <td>2.115481</td>\n",
       "      <td>52.410027</td>\n",
       "      <td>0.0</td>\n",
       "    </tr>\n",
       "    <tr>\n",
       "      <th>2500000</th>\n",
       "      <td>53.780561</td>\n",
       "      <td>152.215304</td>\n",
       "      <td>0.0</td>\n",
       "    </tr>\n",
       "    <tr>\n",
       "      <th>10000000</th>\n",
       "      <td>132.011462</td>\n",
       "      <td>9.542620</td>\n",
       "      <td>0.0</td>\n",
       "    </tr>\n",
       "    <tr>\n",
       "      <th>50000000</th>\n",
       "      <td>94.333454</td>\n",
       "      <td>1.014619</td>\n",
       "      <td>0.0</td>\n",
       "    </tr>\n",
       "  </tbody>\n",
       "</table>\n",
       "</div>"
      ],
      "text/plain": [
       "                     duration  trees_by_hour  oob\n",
       "nsamples nvars                                   \n",
       "1000     150000      0.523603     400.040789  0.0\n",
       "         500000      0.734549     375.412879  0.0\n",
       "         2500000     9.597924     827.513508  0.0\n",
       "         10000000   20.432902     401.823236  0.0\n",
       "         50000000    9.342373       7.523709  0.0\n",
       "5000     150000      2.352945     403.883552  0.0\n",
       "         500000      9.901455     591.490790  0.0\n",
       "         2500000    27.885173     312.328004  0.0\n",
       "         10000000   16.546672      11.216870  0.0\n",
       "         50000000   91.911200       3.988094  0.0\n",
       "10000    150000      3.680163     253.454160  0.0\n",
       "         500000      2.115481      52.410027  0.0\n",
       "         2500000    53.780561     152.215304  0.0\n",
       "         10000000  132.011462       9.542620  0.0\n",
       "         50000000   94.333454       1.014619  0.0"
      ]
     },
     "execution_count": 7,
     "metadata": {},
     "output_type": "execute_result"
    }
   ],
   "source": [
    "g = result_df.groupby(['nsamples', 'nvars'])\n",
    "g.std()[['duration', 'trees_by_hour','oob']]"
   ]
  },
  {
   "cell_type": "code",
   "execution_count": 8,
   "metadata": {
    "collapsed": false
   },
   "outputs": [
    {
     "data": {
      "text/html": [
       "<div>\n",
       "<table border=\"1\" class=\"dataframe\">\n",
       "  <thead>\n",
       "    <tr>\n",
       "      <th></th>\n",
       "      <th colspan=\"5\" halign=\"left\">duration</th>\n",
       "      <th colspan=\"5\" halign=\"left\">trees_by_hour</th>\n",
       "      <th colspan=\"5\" halign=\"left\">oob</th>\n",
       "    </tr>\n",
       "    <tr>\n",
       "      <th>nvars</th>\n",
       "      <th>150000</th>\n",
       "      <th>500000</th>\n",
       "      <th>2500000</th>\n",
       "      <th>10000000</th>\n",
       "      <th>50000000</th>\n",
       "      <th>150000</th>\n",
       "      <th>500000</th>\n",
       "      <th>2500000</th>\n",
       "      <th>10000000</th>\n",
       "      <th>50000000</th>\n",
       "      <th>150000</th>\n",
       "      <th>500000</th>\n",
       "      <th>2500000</th>\n",
       "      <th>10000000</th>\n",
       "      <th>50000000</th>\n",
       "    </tr>\n",
       "    <tr>\n",
       "      <th>nsamples</th>\n",
       "      <th></th>\n",
       "      <th></th>\n",
       "      <th></th>\n",
       "      <th></th>\n",
       "      <th></th>\n",
       "      <th></th>\n",
       "      <th></th>\n",
       "      <th></th>\n",
       "      <th></th>\n",
       "      <th></th>\n",
       "      <th></th>\n",
       "      <th></th>\n",
       "      <th></th>\n",
       "      <th></th>\n",
       "      <th></th>\n",
       "    </tr>\n",
       "  </thead>\n",
       "  <tbody>\n",
       "    <tr>\n",
       "      <th>1000</th>\n",
       "      <td>21.5940</td>\n",
       "      <td>26.7194</td>\n",
       "      <td>59.7702</td>\n",
       "      <td>133.4944</td>\n",
       "      <td>668.8212</td>\n",
       "      <td>16679.055615</td>\n",
       "      <td>13481.611231</td>\n",
       "      <td>6129.166336</td>\n",
       "      <td>2745.907871</td>\n",
       "      <td>538.344520</td>\n",
       "      <td>0.2450</td>\n",
       "      <td>0.2560</td>\n",
       "      <td>0.2840</td>\n",
       "      <td>0.3150</td>\n",
       "      <td>0.3090</td>\n",
       "    </tr>\n",
       "    <tr>\n",
       "      <th>5000</th>\n",
       "      <td>45.6680</td>\n",
       "      <td>71.8562</td>\n",
       "      <td>186.1984</td>\n",
       "      <td>729.3314</td>\n",
       "      <td>2887.3548</td>\n",
       "      <td>7899.616537</td>\n",
       "      <td>5075.196489</td>\n",
       "      <td>1970.837143</td>\n",
       "      <td>493.806307</td>\n",
       "      <td>124.783144</td>\n",
       "      <td>0.1880</td>\n",
       "      <td>0.1882</td>\n",
       "      <td>0.2056</td>\n",
       "      <td>0.2062</td>\n",
       "      <td>0.2120</td>\n",
       "    </tr>\n",
       "    <tr>\n",
       "      <th>10000</th>\n",
       "      <td>70.1818</td>\n",
       "      <td>120.1606</td>\n",
       "      <td>397.3036</td>\n",
       "      <td>2237.8492</td>\n",
       "      <td>5784.7438</td>\n",
       "      <td>5140.164932</td>\n",
       "      <td>2996.728459</td>\n",
       "      <td>922.587574</td>\n",
       "      <td>161.318649</td>\n",
       "      <td>62.245897</td>\n",
       "      <td>0.1783</td>\n",
       "      <td>0.1795</td>\n",
       "      <td>0.1818</td>\n",
       "      <td>0.1823</td>\n",
       "      <td>0.1924</td>\n",
       "    </tr>\n",
       "  </tbody>\n",
       "</table>\n",
       "</div>"
      ],
      "text/plain": [
       "         duration                                           trees_by_hour  \\\n",
       "nvars    150000    500000    2500000    10000000   50000000      150000     \n",
       "nsamples                                                                    \n",
       "1000      21.5940   26.7194   59.7702   133.4944   668.8212  16679.055615   \n",
       "5000      45.6680   71.8562  186.1984   729.3314  2887.3548   7899.616537   \n",
       "10000     70.1818  120.1606  397.3036  2237.8492  5784.7438   5140.164932   \n",
       "\n",
       "                                                                  oob  \\\n",
       "nvars         500000       2500000      10000000    50000000 150000     \n",
       "nsamples                                                                \n",
       "1000      13481.611231  6129.166336  2745.907871  538.344520   0.2450   \n",
       "5000       5075.196489  1970.837143   493.806307  124.783144   0.1880   \n",
       "10000      2996.728459   922.587574   161.318649   62.245897   0.1783   \n",
       "\n",
       "                                              \n",
       "nvars    500000   2500000  10000000 50000000  \n",
       "nsamples                                      \n",
       "1000       0.2560   0.2840   0.3150   0.3090  \n",
       "5000       0.1882   0.2056   0.2062   0.2120  \n",
       "10000      0.1795   0.1818   0.1823   0.1924  "
      ]
     },
     "execution_count": 8,
     "metadata": {},
     "output_type": "execute_result"
    }
   ],
   "source": [
    "oob_and_duration = oob_and_duration_nested.unstack()\n",
    "oob_and_duration"
   ]
  },
  {
   "cell_type": "code",
   "execution_count": 9,
   "metadata": {
    "collapsed": false
   },
   "outputs": [
    {
     "data": {
      "text/html": [
       "<div>\n",
       "<table border=\"1\" class=\"dataframe\">\n",
       "  <thead>\n",
       "    <tr style=\"text-align: right;\">\n",
       "      <th>nvars</th>\n",
       "      <th>150000</th>\n",
       "      <th>500000</th>\n",
       "      <th>2500000</th>\n",
       "      <th>10000000</th>\n",
       "      <th>50000000</th>\n",
       "    </tr>\n",
       "    <tr>\n",
       "      <th>nsamples</th>\n",
       "      <th></th>\n",
       "      <th></th>\n",
       "      <th></th>\n",
       "      <th></th>\n",
       "      <th></th>\n",
       "    </tr>\n",
       "  </thead>\n",
       "  <tbody>\n",
       "    <tr>\n",
       "      <th>1000</th>\n",
       "      <td>16679.1</td>\n",
       "      <td>13481.6</td>\n",
       "      <td>6129.2</td>\n",
       "      <td>2745.9</td>\n",
       "      <td>538.3</td>\n",
       "    </tr>\n",
       "    <tr>\n",
       "      <th>5000</th>\n",
       "      <td>7899.6</td>\n",
       "      <td>5075.2</td>\n",
       "      <td>1970.8</td>\n",
       "      <td>493.8</td>\n",
       "      <td>124.8</td>\n",
       "    </tr>\n",
       "    <tr>\n",
       "      <th>10000</th>\n",
       "      <td>5140.2</td>\n",
       "      <td>2996.7</td>\n",
       "      <td>922.6</td>\n",
       "      <td>161.3</td>\n",
       "      <td>62.2</td>\n",
       "    </tr>\n",
       "  </tbody>\n",
       "</table>\n",
       "</div>"
      ],
      "text/plain": [
       "nvars     150000    500000    2500000   10000000  50000000\n",
       "nsamples                                                  \n",
       "1000       16679.1   13481.6    6129.2    2745.9     538.3\n",
       "5000        7899.6    5075.2    1970.8     493.8     124.8\n",
       "10000       5140.2    2996.7     922.6     161.3      62.2"
      ]
     },
     "execution_count": 9,
     "metadata": {},
     "output_type": "execute_result"
    }
   ],
   "source": [
    "duration = oob_and_duration['trees_by_hour']\n",
    "duration.round(1)"
   ]
  },
  {
   "cell_type": "code",
   "execution_count": 18,
   "metadata": {
    "collapsed": false
   },
   "outputs": [
    {
     "data": {
      "text/plain": [
       "<matplotlib.axes._subplots.AxesSubplot at 0x114670810>"
      ]
     },
     "execution_count": 18,
     "metadata": {},
     "output_type": "execute_result"
    },
    {
     "data": {
      "image/png": "[encoded data removed]",
      "text/plain": [
       "<matplotlib.figure.Figure at 0x114654e50>"
      ]
     },
     "metadata": {},
     "output_type": "display_data"
    }
   ],
   "source": [
    "duration.T.plot(style=['bo-', 'g^-', 'ms-'], logx=True, logy=True, grid=True, xlim = (100000, 60000000))"
   ]
  },
  {
   "cell_type": "code",
   "execution_count": null,
   "metadata": {
    "collapsed": true
   },
   "outputs": [],
   "source": []
  },
  {
   "cell_type": "code",
   "execution_count": null,
   "metadata": {
    "collapsed": true
   },
   "outputs": [],
   "source": []
  },
  {
   "cell_type": "code",
   "execution_count": 27,
   "metadata": {
    "collapsed": false
   },
   "outputs": [
    {
     "data": {
      "text/html": [
       "<div>\n",
       "<table border=\"1\" class=\"dataframe\">\n",
       "  <thead>\n",
       "    <tr style=\"text-align: right;\">\n",
       "      <th>nvars</th>\n",
       "      <th>150000</th>\n",
       "      <th>500000</th>\n",
       "      <th>2500000</th>\n",
       "      <th>10000000</th>\n",
       "      <th>50000000</th>\n",
       "    </tr>\n",
       "    <tr>\n",
       "      <th>nsamples</th>\n",
       "      <th></th>\n",
       "      <th></th>\n",
       "      <th></th>\n",
       "      <th></th>\n",
       "      <th></th>\n",
       "    </tr>\n",
       "  </thead>\n",
       "  <tbody>\n",
       "    <tr>\n",
       "      <th>1000</th>\n",
       "      <td>16679.055615</td>\n",
       "      <td>13481.611231</td>\n",
       "      <td>6129.166336</td>\n",
       "      <td>2745.907871</td>\n",
       "      <td>538.344520</td>\n",
       "    </tr>\n",
       "    <tr>\n",
       "      <th>5000</th>\n",
       "      <td>7899.616537</td>\n",
       "      <td>5075.196489</td>\n",
       "      <td>1970.837143</td>\n",
       "      <td>493.806307</td>\n",
       "      <td>124.783144</td>\n",
       "    </tr>\n",
       "    <tr>\n",
       "      <th>10000</th>\n",
       "      <td>5140.164932</td>\n",
       "      <td>2996.728459</td>\n",
       "      <td>922.587574</td>\n",
       "      <td>161.318649</td>\n",
       "      <td>62.245897</td>\n",
       "    </tr>\n",
       "  </tbody>\n",
       "</table>\n",
       "</div>"
      ],
      "text/plain": [
       "nvars         150000        500000       2500000      10000000    50000000\n",
       "nsamples                                                                  \n",
       "1000      16679.055615  13481.611231  6129.166336  2745.907871  538.344520\n",
       "5000       7899.616537   5075.196489  1970.837143   493.806307  124.783144\n",
       "10000      5140.164932   2996.728459   922.587574   161.318649   62.245897"
      ]
     },
     "execution_count": 27,
     "metadata": {},
     "output_type": "execute_result"
    }
   ],
   "source": [
    "trees_by_hour = oob_and_duration['trees_by_hour']\n",
    "trees_by_hour"
   ]
  },
  {
   "cell_type": "code",
   "execution_count": 31,
   "metadata": {
    "collapsed": false
   },
   "outputs": [
    {
     "data": {
      "text/plain": [
       "<matplotlib.axes._subplots.AxesSubplot at 0x11711b390>"
      ]
     },
     "execution_count": 31,
     "metadata": {},
     "output_type": "execute_result"
    },
    {
     "data": {
      "image/png": "[encoded data removed]",
      "text/plain": [
       "<matplotlib.figure.Figure at 0x1167bda10>"
      ]
     },
     "metadata": {},
     "output_type": "display_data"
    }
   ],
   "source": [
    "trees_by_hour.plot(style=['bo-', 'g^-', 'ms-', 'rx-', 'cd-'], logy=True, logx=True, grid=True, xlim=(900, 10100))"
   ]
  },
  {
   "cell_type": "code",
   "execution_count": 13,
   "metadata": {
    "collapsed": false
   },
   "outputs": [
    {
     "data": {
      "text/html": [
       "<div>\n",
       "<table border=\"1\" class=\"dataframe\">\n",
       "  <thead>\n",
       "    <tr style=\"text-align: right;\">\n",
       "      <th>nvars</th>\n",
       "      <th>150000</th>\n",
       "      <th>500000</th>\n",
       "      <th>2500000</th>\n",
       "      <th>10000000</th>\n",
       "      <th>50000000</th>\n",
       "    </tr>\n",
       "    <tr>\n",
       "      <th>nsamples</th>\n",
       "      <th></th>\n",
       "      <th></th>\n",
       "      <th></th>\n",
       "      <th></th>\n",
       "      <th></th>\n",
       "    </tr>\n",
       "  </thead>\n",
       "  <tbody>\n",
       "    <tr>\n",
       "      <th>1000</th>\n",
       "      <td>0.245</td>\n",
       "      <td>0.256</td>\n",
       "      <td>0.284</td>\n",
       "      <td>0.315</td>\n",
       "      <td>0.309</td>\n",
       "    </tr>\n",
       "    <tr>\n",
       "      <th>5000</th>\n",
       "      <td>0.188</td>\n",
       "      <td>0.188</td>\n",
       "      <td>0.206</td>\n",
       "      <td>0.206</td>\n",
       "      <td>0.212</td>\n",
       "    </tr>\n",
       "    <tr>\n",
       "      <th>10000</th>\n",
       "      <td>0.178</td>\n",
       "      <td>0.180</td>\n",
       "      <td>0.182</td>\n",
       "      <td>0.182</td>\n",
       "      <td>0.192</td>\n",
       "    </tr>\n",
       "  </tbody>\n",
       "</table>\n",
       "</div>"
      ],
      "text/plain": [
       "nvars     150000    500000    2500000   10000000  50000000\n",
       "nsamples                                                  \n",
       "1000         0.245     0.256     0.284     0.315     0.309\n",
       "5000         0.188     0.188     0.206     0.206     0.212\n",
       "10000        0.178     0.180     0.182     0.182     0.192"
      ]
     },
     "execution_count": 13,
     "metadata": {},
     "output_type": "execute_result"
    }
   ],
   "source": [
    "oob = oob_and_duration['oob']\n",
    "oob.round(3)"
   ]
  },
  {
   "cell_type": "code",
   "execution_count": 14,
   "metadata": {
    "collapsed": false
   },
   "outputs": [
    {
     "data": {
      "text/plain": [
       "<matplotlib.axes._subplots.AxesSubplot at 0x112d51610>"
      ]
     },
     "execution_count": 14,
     "metadata": {},
     "output_type": "execute_result"
    },
    {
     "data": {
      "image/png": "[encoded data removed]",
      "text/plain": [
       "<matplotlib.figure.Figure at 0x112d5cc50>"
      ]
     },
     "metadata": {},
     "output_type": "display_data"
    }
   ],
   "source": [
    "oob.T.plot(style=['bo-', 'g^-', 'ms-'], logx=True, logy=True, grid=True, xlim = (100000, 60000000))"
   ]
  },
  {
   "cell_type": "code",
   "execution_count": null,
   "metadata": {
    "collapsed": true
   },
   "outputs": [],
   "source": []
  }
 ],
 "metadata": {
  "kernelspec": {
   "display_name": "Python 2",
   "language": "python",
   "name": "python2"
  },
  "language_info": {
   "codemirror_mode": {
    "name": "ipython",
    "version": 2
   },
   "file_extension": ".py",
   "mimetype": "text/x-python",
   "name": "python",
   "nbconvert_exporter": "python",
   "pygments_lexer": "ipython2",
   "version": "2.7.11"
  }
 },
 "nbformat": 4,
 "nbformat_minor": 0
}
