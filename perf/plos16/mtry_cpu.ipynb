{
 "cells": [
  {
   "cell_type": "code",
   "execution_count": 17,
   "metadata": {
    "collapsed": false
   },
   "outputs": [
    {
     "name": "stdout",
     "output_type": "stream",
     "text": [
      "Populating the interactive namespace from numpy and matplotlib\n"
     ]
    }
   ],
   "source": [
    "import pandas as pd\n",
    "%pylab inline\n",
    "rcParams['figure.figsize'] = 9, 7"
   ]
  },
  {
   "cell_type": "code",
   "execution_count": 3,
   "metadata": {
    "collapsed": false
   },
   "outputs": [],
   "source": [
    "result_df =  pd.read_csv(\"results/mtry_cpu.csv\")"
   ]
  },
  {
   "cell_type": "code",
   "execution_count": 4,
   "metadata": {
    "collapsed": false
   },
   "outputs": [
    {
     "data": {
      "text/html": [
       "<div>\n",
       "<table border=\"1\" class=\"dataframe\">\n",
       "  <thead>\n",
       "    <tr style=\"text-align: right;\">\n",
       "      <th></th>\n",
       "      <th>nsamples</th>\n",
       "      <th>nvars</th>\n",
       "      <th>mtry</th>\n",
       "      <th>ntrees</th>\n",
       "      <th>ncores</th>\n",
       "      <th>count</th>\n",
       "      <th>oob</th>\n",
       "      <th>duration</th>\n",
       "    </tr>\n",
       "  </thead>\n",
       "  <tbody>\n",
       "    <tr>\n",
       "      <th>0</th>\n",
       "      <td>5000</td>\n",
       "      <td>2500000</td>\n",
       "      <td>0.1</td>\n",
       "      <td>100</td>\n",
       "      <td>128</td>\n",
       "      <td>0</td>\n",
       "      <td>0.261</td>\n",
       "      <td>108.927</td>\n",
       "    </tr>\n",
       "  </tbody>\n",
       "</table>\n",
       "</div>"
      ],
      "text/plain": [
       "   nsamples    nvars  mtry  ntrees  ncores  count    oob  duration\n",
       "0      5000  2500000   0.1     100     128      0  0.261   108.927"
      ]
     },
     "execution_count": 4,
     "metadata": {},
     "output_type": "execute_result"
    }
   ],
   "source": [
    "result_df[0:1]"
   ]
  },
  {
   "cell_type": "code",
   "execution_count": 5,
   "metadata": {
    "collapsed": true
   },
   "outputs": [],
   "source": [
    "result_df['trees_by_hour'] = 3600*100.0/result_df['duration']"
   ]
  },
  {
   "cell_type": "code",
   "execution_count": 6,
   "metadata": {
    "collapsed": false
   },
   "outputs": [
    {
     "data": {
      "text/html": [
       "<div>\n",
       "<table border=\"1\" class=\"dataframe\">\n",
       "  <thead>\n",
       "    <tr style=\"text-align: right;\">\n",
       "      <th></th>\n",
       "      <th></th>\n",
       "      <th>duration</th>\n",
       "      <th>trees_by_hour</th>\n",
       "      <th>oob</th>\n",
       "    </tr>\n",
       "    <tr>\n",
       "      <th>mtry</th>\n",
       "      <th>ncores</th>\n",
       "      <th></th>\n",
       "      <th></th>\n",
       "      <th></th>\n",
       "    </tr>\n",
       "  </thead>\n",
       "  <tbody>\n",
       "    <tr>\n",
       "      <th rowspan=\"4\" valign=\"top\">0.10</th>\n",
       "      <th>16</th>\n",
       "      <td>708.2716</td>\n",
       "      <td>509.828477</td>\n",
       "      <td>0.2610</td>\n",
       "    </tr>\n",
       "    <tr>\n",
       "      <th>32</th>\n",
       "      <td>340.0086</td>\n",
       "      <td>1060.306506</td>\n",
       "      <td>0.2610</td>\n",
       "    </tr>\n",
       "    <tr>\n",
       "      <th>64</th>\n",
       "      <td>186.0142</td>\n",
       "      <td>1946.865069</td>\n",
       "      <td>0.2610</td>\n",
       "    </tr>\n",
       "    <tr>\n",
       "      <th>128</th>\n",
       "      <td>134.4706</td>\n",
       "      <td>2758.007235</td>\n",
       "      <td>0.2610</td>\n",
       "    </tr>\n",
       "    <tr>\n",
       "      <th rowspan=\"4\" valign=\"top\">0.25</th>\n",
       "      <th>16</th>\n",
       "      <td>1134.8944</td>\n",
       "      <td>317.564873</td>\n",
       "      <td>0.2056</td>\n",
       "    </tr>\n",
       "    <tr>\n",
       "      <th>32</th>\n",
       "      <td>535.0180</td>\n",
       "      <td>674.687432</td>\n",
       "      <td>0.2056</td>\n",
       "    </tr>\n",
       "    <tr>\n",
       "      <th>64</th>\n",
       "      <td>270.7854</td>\n",
       "      <td>1330.221098</td>\n",
       "      <td>0.2056</td>\n",
       "    </tr>\n",
       "    <tr>\n",
       "      <th>128</th>\n",
       "      <td>179.5924</td>\n",
       "      <td>2038.849937</td>\n",
       "      <td>0.2056</td>\n",
       "    </tr>\n",
       "    <tr>\n",
       "      <th rowspan=\"4\" valign=\"top\">0.50</th>\n",
       "      <th>16</th>\n",
       "      <td>1724.0604</td>\n",
       "      <td>209.012343</td>\n",
       "      <td>0.1878</td>\n",
       "    </tr>\n",
       "    <tr>\n",
       "      <th>32</th>\n",
       "      <td>856.5674</td>\n",
       "      <td>420.666804</td>\n",
       "      <td>0.1878</td>\n",
       "    </tr>\n",
       "    <tr>\n",
       "      <th>64</th>\n",
       "      <td>428.6656</td>\n",
       "      <td>845.451891</td>\n",
       "      <td>0.1878</td>\n",
       "    </tr>\n",
       "    <tr>\n",
       "      <th>128</th>\n",
       "      <td>243.8064</td>\n",
       "      <td>1498.782664</td>\n",
       "      <td>0.1878</td>\n",
       "    </tr>\n",
       "    <tr>\n",
       "      <th rowspan=\"4\" valign=\"top\">0.80</th>\n",
       "      <th>16</th>\n",
       "      <td>2313.4762</td>\n",
       "      <td>155.706224</td>\n",
       "      <td>0.1850</td>\n",
       "    </tr>\n",
       "    <tr>\n",
       "      <th>32</th>\n",
       "      <td>1125.7038</td>\n",
       "      <td>320.094682</td>\n",
       "      <td>0.1850</td>\n",
       "    </tr>\n",
       "    <tr>\n",
       "      <th>64</th>\n",
       "      <td>569.1076</td>\n",
       "      <td>632.675703</td>\n",
       "      <td>0.1850</td>\n",
       "    </tr>\n",
       "    <tr>\n",
       "      <th>128</th>\n",
       "      <td>364.5910</td>\n",
       "      <td>1021.954231</td>\n",
       "      <td>0.1850</td>\n",
       "    </tr>\n",
       "  </tbody>\n",
       "</table>\n",
       "</div>"
      ],
      "text/plain": [
       "              duration  trees_by_hour     oob\n",
       "mtry ncores                                  \n",
       "0.10 16       708.2716     509.828477  0.2610\n",
       "     32       340.0086    1060.306506  0.2610\n",
       "     64       186.0142    1946.865069  0.2610\n",
       "     128      134.4706    2758.007235  0.2610\n",
       "0.25 16      1134.8944     317.564873  0.2056\n",
       "     32       535.0180     674.687432  0.2056\n",
       "     64       270.7854    1330.221098  0.2056\n",
       "     128      179.5924    2038.849937  0.2056\n",
       "0.50 16      1724.0604     209.012343  0.1878\n",
       "     32       856.5674     420.666804  0.1878\n",
       "     64       428.6656     845.451891  0.1878\n",
       "     128      243.8064    1498.782664  0.1878\n",
       "0.80 16      2313.4762     155.706224  0.1850\n",
       "     32      1125.7038     320.094682  0.1850\n",
       "     64       569.1076     632.675703  0.1850\n",
       "     128      364.5910    1021.954231  0.1850"
      ]
     },
     "execution_count": 6,
     "metadata": {},
     "output_type": "execute_result"
    }
   ],
   "source": [
    "oob_and_duration_nested = result_df.groupby(['mtry', 'ncores']).mean()[['duration', 'trees_by_hour','oob']]\n",
    "oob_and_duration_nested\n"
   ]
  },
  {
   "cell_type": "code",
   "execution_count": 7,
   "metadata": {
    "collapsed": false
   },
   "outputs": [
    {
     "data": {
      "text/html": [
       "<div>\n",
       "<table border=\"1\" class=\"dataframe\">\n",
       "  <thead>\n",
       "    <tr>\n",
       "      <th></th>\n",
       "      <th colspan=\"4\" halign=\"left\">duration</th>\n",
       "      <th colspan=\"4\" halign=\"left\">trees_by_hour</th>\n",
       "      <th colspan=\"4\" halign=\"left\">oob</th>\n",
       "    </tr>\n",
       "    <tr>\n",
       "      <th>ncores</th>\n",
       "      <th>16</th>\n",
       "      <th>32</th>\n",
       "      <th>64</th>\n",
       "      <th>128</th>\n",
       "      <th>16</th>\n",
       "      <th>32</th>\n",
       "      <th>64</th>\n",
       "      <th>128</th>\n",
       "      <th>16</th>\n",
       "      <th>32</th>\n",
       "      <th>64</th>\n",
       "      <th>128</th>\n",
       "    </tr>\n",
       "    <tr>\n",
       "      <th>mtry</th>\n",
       "      <th></th>\n",
       "      <th></th>\n",
       "      <th></th>\n",
       "      <th></th>\n",
       "      <th></th>\n",
       "      <th></th>\n",
       "      <th></th>\n",
       "      <th></th>\n",
       "      <th></th>\n",
       "      <th></th>\n",
       "      <th></th>\n",
       "      <th></th>\n",
       "    </tr>\n",
       "  </thead>\n",
       "  <tbody>\n",
       "    <tr>\n",
       "      <th>0.10</th>\n",
       "      <td>708.2716</td>\n",
       "      <td>340.0086</td>\n",
       "      <td>186.0142</td>\n",
       "      <td>134.4706</td>\n",
       "      <td>509.828477</td>\n",
       "      <td>1060.306506</td>\n",
       "      <td>1946.865069</td>\n",
       "      <td>2758.007235</td>\n",
       "      <td>0.2610</td>\n",
       "      <td>0.2610</td>\n",
       "      <td>0.2610</td>\n",
       "      <td>0.2610</td>\n",
       "    </tr>\n",
       "    <tr>\n",
       "      <th>0.25</th>\n",
       "      <td>1134.8944</td>\n",
       "      <td>535.0180</td>\n",
       "      <td>270.7854</td>\n",
       "      <td>179.5924</td>\n",
       "      <td>317.564873</td>\n",
       "      <td>674.687432</td>\n",
       "      <td>1330.221098</td>\n",
       "      <td>2038.849937</td>\n",
       "      <td>0.2056</td>\n",
       "      <td>0.2056</td>\n",
       "      <td>0.2056</td>\n",
       "      <td>0.2056</td>\n",
       "    </tr>\n",
       "    <tr>\n",
       "      <th>0.50</th>\n",
       "      <td>1724.0604</td>\n",
       "      <td>856.5674</td>\n",
       "      <td>428.6656</td>\n",
       "      <td>243.8064</td>\n",
       "      <td>209.012343</td>\n",
       "      <td>420.666804</td>\n",
       "      <td>845.451891</td>\n",
       "      <td>1498.782664</td>\n",
       "      <td>0.1878</td>\n",
       "      <td>0.1878</td>\n",
       "      <td>0.1878</td>\n",
       "      <td>0.1878</td>\n",
       "    </tr>\n",
       "    <tr>\n",
       "      <th>0.80</th>\n",
       "      <td>2313.4762</td>\n",
       "      <td>1125.7038</td>\n",
       "      <td>569.1076</td>\n",
       "      <td>364.5910</td>\n",
       "      <td>155.706224</td>\n",
       "      <td>320.094682</td>\n",
       "      <td>632.675703</td>\n",
       "      <td>1021.954231</td>\n",
       "      <td>0.1850</td>\n",
       "      <td>0.1850</td>\n",
       "      <td>0.1850</td>\n",
       "      <td>0.1850</td>\n",
       "    </tr>\n",
       "  </tbody>\n",
       "</table>\n",
       "</div>"
      ],
      "text/plain": [
       "         duration                                trees_by_hour               \\\n",
       "ncores        16         32        64        128           16           32    \n",
       "mtry                                                                          \n",
       "0.10     708.2716   340.0086  186.0142  134.4706    509.828477  1060.306506   \n",
       "0.25    1134.8944   535.0180  270.7854  179.5924    317.564873   674.687432   \n",
       "0.50    1724.0604   856.5674  428.6656  243.8064    209.012343   420.666804   \n",
       "0.80    2313.4762  1125.7038  569.1076  364.5910    155.706224   320.094682   \n",
       "\n",
       "                                     oob                          \n",
       "ncores          64           128     16      32      64      128  \n",
       "mtry                                                              \n",
       "0.10    1946.865069  2758.007235  0.2610  0.2610  0.2610  0.2610  \n",
       "0.25    1330.221098  2038.849937  0.2056  0.2056  0.2056  0.2056  \n",
       "0.50     845.451891  1498.782664  0.1878  0.1878  0.1878  0.1878  \n",
       "0.80     632.675703  1021.954231  0.1850  0.1850  0.1850  0.1850  "
      ]
     },
     "execution_count": 7,
     "metadata": {},
     "output_type": "execute_result"
    }
   ],
   "source": [
    "oob_and_duration = oob_and_duration_nested.unstack()\n",
    "oob_and_duration"
   ]
  },
  {
   "cell_type": "code",
   "execution_count": 8,
   "metadata": {
    "collapsed": false
   },
   "outputs": [
    {
     "data": {
      "text/html": [
       "<div>\n",
       "<table border=\"1\" class=\"dataframe\">\n",
       "  <thead>\n",
       "    <tr style=\"text-align: right;\">\n",
       "      <th>ncores</th>\n",
       "      <th>16</th>\n",
       "      <th>32</th>\n",
       "      <th>64</th>\n",
       "      <th>128</th>\n",
       "    </tr>\n",
       "    <tr>\n",
       "      <th>mtry</th>\n",
       "      <th></th>\n",
       "      <th></th>\n",
       "      <th></th>\n",
       "      <th></th>\n",
       "    </tr>\n",
       "  </thead>\n",
       "  <tbody>\n",
       "    <tr>\n",
       "      <th>0.10</th>\n",
       "      <td>708.2716</td>\n",
       "      <td>340.0086</td>\n",
       "      <td>186.0142</td>\n",
       "      <td>134.4706</td>\n",
       "    </tr>\n",
       "    <tr>\n",
       "      <th>0.25</th>\n",
       "      <td>1134.8944</td>\n",
       "      <td>535.0180</td>\n",
       "      <td>270.7854</td>\n",
       "      <td>179.5924</td>\n",
       "    </tr>\n",
       "    <tr>\n",
       "      <th>0.50</th>\n",
       "      <td>1724.0604</td>\n",
       "      <td>856.5674</td>\n",
       "      <td>428.6656</td>\n",
       "      <td>243.8064</td>\n",
       "    </tr>\n",
       "    <tr>\n",
       "      <th>0.80</th>\n",
       "      <td>2313.4762</td>\n",
       "      <td>1125.7038</td>\n",
       "      <td>569.1076</td>\n",
       "      <td>364.5910</td>\n",
       "    </tr>\n",
       "  </tbody>\n",
       "</table>\n",
       "</div>"
      ],
      "text/plain": [
       "ncores        16         32        64        128\n",
       "mtry                                            \n",
       "0.10     708.2716   340.0086  186.0142  134.4706\n",
       "0.25    1134.8944   535.0180  270.7854  179.5924\n",
       "0.50    1724.0604   856.5674  428.6656  243.8064\n",
       "0.80    2313.4762  1125.7038  569.1076  364.5910"
      ]
     },
     "execution_count": 8,
     "metadata": {},
     "output_type": "execute_result"
    }
   ],
   "source": [
    "duration = oob_and_duration['duration']\n",
    "duration"
   ]
  },
  {
   "cell_type": "code",
   "execution_count": 18,
   "metadata": {
    "collapsed": false
   },
   "outputs": [
    {
     "data": {
      "text/plain": [
       "<matplotlib.axes._subplots.AxesSubplot at 0x1131b6c50>"
      ]
     },
     "execution_count": 18,
     "metadata": {},
     "output_type": "execute_result"
    },
    {
     "data": {
      "image/png": "[encoded data removed]",
      "text/plain": [
       "<matplotlib.figure.Figure at 0x1133a3a90>"
      ]
     },
     "metadata": {},
     "output_type": "display_data"
    }
   ],
   "source": [
    "duration.plot()"
   ]
  },
  {
   "cell_type": "code",
   "execution_count": 10,
   "metadata": {
    "collapsed": false
   },
   "outputs": [
    {
     "data": {
      "text/html": [
       "<div>\n",
       "<table border=\"1\" class=\"dataframe\">\n",
       "  <thead>\n",
       "    <tr style=\"text-align: right;\">\n",
       "      <th>mtry</th>\n",
       "      <th>0.1</th>\n",
       "      <th>0.25</th>\n",
       "      <th>0.5</th>\n",
       "      <th>0.8</th>\n",
       "    </tr>\n",
       "    <tr>\n",
       "      <th>ncores</th>\n",
       "      <th></th>\n",
       "      <th></th>\n",
       "      <th></th>\n",
       "      <th></th>\n",
       "    </tr>\n",
       "  </thead>\n",
       "  <tbody>\n",
       "    <tr>\n",
       "      <th>16</th>\n",
       "      <td>509.828477</td>\n",
       "      <td>317.564873</td>\n",
       "      <td>209.012343</td>\n",
       "      <td>155.706224</td>\n",
       "    </tr>\n",
       "    <tr>\n",
       "      <th>32</th>\n",
       "      <td>1060.306506</td>\n",
       "      <td>674.687432</td>\n",
       "      <td>420.666804</td>\n",
       "      <td>320.094682</td>\n",
       "    </tr>\n",
       "    <tr>\n",
       "      <th>64</th>\n",
       "      <td>1946.865069</td>\n",
       "      <td>1330.221098</td>\n",
       "      <td>845.451891</td>\n",
       "      <td>632.675703</td>\n",
       "    </tr>\n",
       "    <tr>\n",
       "      <th>128</th>\n",
       "      <td>2758.007235</td>\n",
       "      <td>2038.849937</td>\n",
       "      <td>1498.782664</td>\n",
       "      <td>1021.954231</td>\n",
       "    </tr>\n",
       "  </tbody>\n",
       "</table>\n",
       "</div>"
      ],
      "text/plain": [
       "mtry           0.10         0.25         0.50         0.80\n",
       "ncores                                                    \n",
       "16       509.828477   317.564873   209.012343   155.706224\n",
       "32      1060.306506   674.687432   420.666804   320.094682\n",
       "64      1946.865069  1330.221098   845.451891   632.675703\n",
       "128     2758.007235  2038.849937  1498.782664  1021.954231"
      ]
     },
     "execution_count": 10,
     "metadata": {},
     "output_type": "execute_result"
    }
   ],
   "source": [
    "trees_by_hour = oob_and_duration['trees_by_hour'].T\n",
    "trees_by_hour"
   ]
  },
  {
   "cell_type": "code",
   "execution_count": 19,
   "metadata": {
    "collapsed": false
   },
   "outputs": [
    {
     "data": {
      "text/plain": [
       "<matplotlib.axes._subplots.AxesSubplot at 0x11240dc10>"
      ]
     },
     "execution_count": 19,
     "metadata": {},
     "output_type": "execute_result"
    },
    {
     "data": {
      "image/png": "[encoded data removed]",
      "text/plain": [
       "<matplotlib.figure.Figure at 0x1135bb850>"
      ]
     },
     "metadata": {},
     "output_type": "display_data"
    }
   ],
   "source": [
    "trees_by_hour.plot.line()"
   ]
  }
 ],
 "metadata": {
  "kernelspec": {
   "display_name": "Python 2",
   "language": "python",
   "name": "python2"
  },
  "language_info": {
   "codemirror_mode": {
    "name": "ipython",
    "version": 2
   },
   "file_extension": ".py",
   "mimetype": "text/x-python",
   "name": "python",
   "nbconvert_exporter": "python",
   "pygments_lexer": "ipython2",
   "version": "2.7.11"
  }
 },
 "nbformat": 4,
 "nbformat_minor": 0
}
